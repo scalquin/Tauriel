{
 "cells": [
  {
   "cell_type": "code",
   "execution_count": 1,
   "metadata": {},
   "outputs": [
    {
     "name": "stderr",
     "output_type": "stream",
     "text": [
      "Using TensorFlow backend.\n"
     ]
    },
    {
     "name": "stdout",
     "output_type": "stream",
     "text": [
      "WARNING:tensorflow:From /home/sebastian/anaconda3/envs/Tesis/lib/python3.7/site-packages/keras/backend/tensorflow_backend.py:517: The name tf.placeholder is deprecated. Please use tf.compat.v1.placeholder instead.\n",
      "\n",
      "WARNING:tensorflow:From /home/sebastian/anaconda3/envs/Tesis/lib/python3.7/site-packages/keras/backend/tensorflow_backend.py:4185: The name tf.truncated_normal is deprecated. Please use tf.random.truncated_normal instead.\n",
      "\n",
      "WARNING:tensorflow:From /home/sebastian/anaconda3/envs/Tesis/lib/python3.7/site-packages/keras/backend/tensorflow_backend.py:3976: The name tf.nn.max_pool is deprecated. Please use tf.nn.max_pool2d instead.\n",
      "\n",
      "WARNING:tensorflow:From /home/sebastian/anaconda3/envs/Tesis/lib/python3.7/site-packages/keras/backend/tensorflow_backend.py:174: The name tf.get_default_session is deprecated. Please use tf.compat.v1.get_default_session instead.\n",
      "\n",
      "WARNING:tensorflow:From /home/sebastian/anaconda3/envs/Tesis/lib/python3.7/site-packages/keras/backend/tensorflow_backend.py:181: The name tf.ConfigProto is deprecated. Please use tf.compat.v1.ConfigProto instead.\n",
      "\n",
      "WARNING:tensorflow:From /home/sebastian/anaconda3/envs/Tesis/lib/python3.7/site-packages/keras/backend/tensorflow_backend.py:186: The name tf.Session is deprecated. Please use tf.compat.v1.Session instead.\n",
      "\n",
      "WARNING:tensorflow:From /home/sebastian/anaconda3/envs/Tesis/lib/python3.7/site-packages/keras/backend/tensorflow_backend.py:190: The name tf.global_variables is deprecated. Please use tf.compat.v1.global_variables instead.\n",
      "\n",
      "WARNING:tensorflow:From /home/sebastian/anaconda3/envs/Tesis/lib/python3.7/site-packages/keras/backend/tensorflow_backend.py:199: The name tf.is_variable_initialized is deprecated. Please use tf.compat.v1.is_variable_initialized instead.\n",
      "\n",
      "WARNING:tensorflow:From /home/sebastian/anaconda3/envs/Tesis/lib/python3.7/site-packages/keras/backend/tensorflow_backend.py:206: The name tf.variables_initializer is deprecated. Please use tf.compat.v1.variables_initializer instead.\n",
      "\n",
      "WARNING:tensorflow:From /home/sebastian/anaconda3/envs/Tesis/lib/python3.7/site-packages/keras/optimizers.py:790: The name tf.train.Optimizer is deprecated. Please use tf.compat.v1.train.Optimizer instead.\n",
      "\n",
      "WARNING:tensorflow:From /home/sebastian/anaconda3/envs/Tesis/lib/python3.7/site-packages/keras/backend/tensorflow_backend.py:3295: The name tf.log is deprecated. Please use tf.math.log instead.\n",
      "\n",
      "WARNING:tensorflow:From /home/sebastian/anaconda3/envs/Tesis/lib/python3.7/site-packages/tensorflow_core/python/ops/math_grad.py:1424: where (from tensorflow.python.ops.array_ops) is deprecated and will be removed in a future version.\n",
      "Instructions for updating:\n",
      "Use tf.where in 2.0, which has the same broadcast rule as np.where\n",
      "WARNING:tensorflow:From /home/sebastian/anaconda3/envs/Tesis/lib/python3.7/site-packages/keras/backend/tensorflow_backend.py:986: The name tf.assign_add is deprecated. Please use tf.compat.v1.assign_add instead.\n",
      "\n",
      "WARNING:tensorflow:From /home/sebastian/anaconda3/envs/Tesis/lib/python3.7/site-packages/keras/backend/tensorflow_backend.py:973: The name tf.assign is deprecated. Please use tf.compat.v1.assign instead.\n",
      "\n",
      "Javo 77.71%\n",
      "Javo 75.34%\n",
      "Raymundo 71.29%\n"
     ]
    }
   ],
   "source": [
    "import numpy as np\n",
    "from keras.preprocessing.image import load_img, img_to_array\n",
    "from keras.models import load_model\n",
    "from keras.utils import CustomObjectScope\n",
    "from keras.initializers import glorot_uniform\n",
    "import cv2\n",
    "\n",
    "nombre = ['Andrés','Javo','Raymundo']\n",
    "\n",
    "longitud, altura = 224, 224\n",
    "\n",
    "modelo = './Tesis/modelo.h5'\n",
    "pesos_modelo = './Tesis/pesos.h5'\n",
    "with CustomObjectScope({'GlorotUniform': glorot_uniform()}):\n",
    "    cnn = load_model(modelo)\n",
    "    cnn.load_weights(pesos_modelo)\n",
    "\n",
    "def predict(file, probabilidad):\n",
    "    name = \"Desconocido\"\n",
    "    \n",
    "    identi = cv2.imread(file)\n",
    "    identi = cv2.resize(identi,(224,224))\n",
    "    identi = identi.astype('float32')\n",
    "    identi = np.expand_dims(identi, 0)\n",
    "    id_ = cnn.predict(identi)\n",
    "    prob = np.max(id_)\n",
    "    label = np.argmax(id_)\n",
    "    \n",
    "    if prob >= probabilidad:\n",
    "        name = nombre[label]+\" \"+str(prob*100)[:5]+\"%\"\n",
    "        print(name)\n",
    "    elif prob<= probabilidad:\n",
    "        name = name+\" \"+str(prob*100)[:5]+\"%\"\n",
    "        print(name)\n",
    "    \n",
    "predict(\"/home/sebastian/Documentos/Tesis3/Tesis/CodigoOrdenado/datos-101/test/0.jpg\",0.4)\n",
    "predict(\"/home/sebastian/Documentos/Tesis3/Tesis/CodigoOrdenado/datos-101/test/1.jpg\",0.4)\n",
    "predict(\"/home/sebastian/Documentos/Tesis3/Tesis/CodigoOrdenado/datos-101/test/2.jpg\",0.4)"
   ]
  },
  {
   "cell_type": "code",
   "execution_count": null,
   "metadata": {},
   "outputs": [],
   "source": []
  }
 ],
 "metadata": {
  "kernelspec": {
   "display_name": "Python 3",
   "language": "python",
   "name": "python3"
  },
  "language_info": {
   "codemirror_mode": {
    "name": "ipython",
    "version": 3
   },
   "file_extension": ".py",
   "mimetype": "text/x-python",
   "name": "python",
   "nbconvert_exporter": "python",
   "pygments_lexer": "ipython3",
   "version": "3.7.5"
  }
 },
 "nbformat": 4,
 "nbformat_minor": 2
}
